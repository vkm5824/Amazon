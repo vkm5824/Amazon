{
    "cells": [
        {
            "cell_type": "markdown", 
            "source": "<h3>Read &amp; Write Content From Amazon S3</h3>", 
            "metadata": {}
        }, 
        {
            "cell_type": "code", 
            "source": "#Replace Accesskey with your amazon AccessKey and Secret with amazon secret\nhconf = sc._jsc.hadoopConfiguration()  \nhconf.set(\"fs.s3a.access.key\", \"XXXXXXXXXX\")\nhconf.set(\"fs.s3a.secret.key\", \"XXXXXXXXXX\")", 
            "execution_count": 3, 
            "outputs": [], 
            "metadata": {
                "collapsed": false
            }
        }, 
        {
            "cell_type": "code", 
            "source": "spark = SparkSession.builder.getOrCreate()\ndf_data_1 = spark.read\\\n  .format('org.apache.spark.sql.execution.datasources.csv.CSVFileFormat')\\\n  .option('header', 'true')\\\n  .load('s3a://charlesbuckets31/FolderA/users.csv')\ndf_data_1.take(5)", 
            "execution_count": 5, 
            "outputs": [
                {
                    "output_type": "execute_result", 
                    "execution_count": 5, 
                    "data": {
                        "text/plain": "[Row(id=u'10001', name=u'Tony'),\n Row(id=u'10002', name=u'Mike'),\n Row(id=u'10003', name=u'Pat'),\n Row(id=u'10004', name=u'Chris'),\n Row(id=u'10005', name=u'Paco')]"
                    }, 
                    "metadata": {}
                }
            ], 
            "metadata": {
                "collapsed": false
            }
        }, 
        {
            "cell_type": "code", 
            "source": "df_data_1.printSchema()", 
            "execution_count": 6, 
            "outputs": [
                {
                    "text": "root\n |-- id: string (nullable = true)\n |-- name: string (nullable = true)\n\n", 
                    "output_type": "stream", 
                    "name": "stdout"
                }
            ], 
            "metadata": {
                "collapsed": false
            }
        }, 
        {
            "cell_type": "code", 
            "source": "df_data_1.write.save(\"s3a://charlesbuckets31/FolderB/users.parquet\")", 
            "execution_count": 11, 
            "outputs": [], 
            "metadata": {
                "collapsed": false
            }
        }, 
        {
            "cell_type": "code", 
            "source": "df_data_2 = spark.read\\\n  .format('org.apache.spark.sql.execution.datasources.parquet.ParquetFileFormat')\\\n  .option('header', 'true')\\\n  .load('s3a://charlesbuckets31/FolderB/users.parquet')\ndf_data_2.take(5)", 
            "execution_count": 12, 
            "outputs": [
                {
                    "output_type": "execute_result", 
                    "execution_count": 12, 
                    "data": {
                        "text/plain": "[Row(id=u'10001', name=u'Tony'),\n Row(id=u'10002', name=u'Mike'),\n Row(id=u'10003', name=u'Pat'),\n Row(id=u'10004', name=u'Chris'),\n Row(id=u'10005', name=u'Paco')]"
                    }, 
                    "metadata": {}
                }
            ], 
            "metadata": {
                "collapsed": false
            }
        }
    ], 
    "nbformat_minor": 0, 
    "nbformat": 4, 
    "metadata": {
        "kernelspec": {
            "language": "python", 
            "display_name": "Python 2 with Spark 2.0", 
            "name": "python2-spark20"
        }, 
        "language_info": {
            "pygments_lexer": "ipython2", 
            "mimetype": "text/x-python", 
            "nbconvert_exporter": "python", 
            "name": "python", 
            "file_extension": ".py", 
            "version": "2.7.11", 
            "codemirror_mode": {
                "version": 2, 
                "name": "ipython"
            }
        }
    }
}